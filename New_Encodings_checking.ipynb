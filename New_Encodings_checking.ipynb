{
 "cells": [
  {
   "cell_type": "code",
   "execution_count": 1,
   "id": "1595d7eb",
   "metadata": {},
   "outputs": [
    {
     "name": "stdout",
     "output_type": "stream",
     "text": [
      "Available encodings: ['gpt2', 'r50k_base', 'p50k_base', 'p50k_edit', 'cl100k_base', 'o200k_base']\n"
     ]
    }
   ],
   "source": [
    "import tiktoken\n",
    "\n",
    "# List all available encodings\n",
    "available_encodings = tiktoken.list_encoding_names()\n",
    "print(\"Available encodings:\", available_encodings)\n",
    "# Output: ['gpt2', 'r50k_base', 'p50k_base', 'p50k_edit', 'cl100k_base']"
   ]
  },
  {
   "cell_type": "code",
   "execution_count": 2,
   "id": "1439bd75",
   "metadata": {},
   "outputs": [
    {
     "name": "stdout",
     "output_type": "stream",
     "text": [
      "gpt-4: cl100k_base\n",
      "gpt-3.5-turbo: cl100k_base\n",
      "text-davinci-003: p50k_base\n"
     ]
    }
   ],
   "source": [
    "# Check encoding for specific models\n",
    "models_to_check = [\"gpt-4\", \"gpt-3.5-turbo\", \"text-davinci-003\"]\n",
    "\n",
    "for model in models_to_check:\n",
    "    try:\n",
    "        encoding = tiktoken.encoding_for_model(model)\n",
    "        print(f\"{model}: {encoding.name}\")\n",
    "    except KeyError:\n",
    "        print(f\"{model}: Not found\")\n",
    "\n",
    "# Output:\n",
    "# gpt-4: cl100k_base\n",
    "# gpt-3.5-turbo: cl100k_base  \n",
    "# text-davinci-003: p50k_base"
   ]
  },
  {
   "cell_type": "code",
   "execution_count": null,
   "id": "6baa23d3",
   "metadata": {},
   "outputs": [],
   "source": []
  }
 ],
 "metadata": {
  "kernelspec": {
   "display_name": "interview",
   "language": "python",
   "name": "python3"
  },
  "language_info": {
   "codemirror_mode": {
    "name": "ipython",
    "version": 3
   },
   "file_extension": ".py",
   "mimetype": "text/x-python",
   "name": "python",
   "nbconvert_exporter": "python",
   "pygments_lexer": "ipython3",
   "version": "3.13.2"
  }
 },
 "nbformat": 4,
 "nbformat_minor": 5
}
